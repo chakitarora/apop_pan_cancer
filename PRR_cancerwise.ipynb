{
 "cells": [
  {
   "cell_type": "code",
   "execution_count": 6,
   "metadata": {},
   "outputs": [],
   "source": [
    "import pandas as pd\n",
    "import sys\n",
    "abc=pd.read_csv('/Users/macbook/Desktop/APOP_PAN_CANCER/HR_APOP/READ_HRmedian_raw.csv')\n",
    "gene=list((pd.read_csv('/Users/macbook/Desktop/APOP_PAN_CANCER/apoptosis_genes1.csv',header=None))[0])\n",
    "\n",
    "\n",
    "prr_gene=abc[abc['Gene'].isin(gene)]\n",
    "prr_gene=prr_gene.drop(['Beta','GP1','GP2','Concordance','Std_Error'],axis=1)\n",
    "\n",
    "\n",
    "orig=pd.DataFrame()\n",
    "orig['Gene']=gene\n",
    "Final=pd.merge(prr_gene, orig, on='Gene', how='outer')\n",
    "Final=Final.sort_values(\"Gene\")\n",
    "Final.to_csv('/Users/macbook/Desktop/APOP_PAN_CANCER/HR_APOP/READ_matrix_a.csv',header=True,index=False)"
   ]
  },
  {
   "cell_type": "code",
   "execution_count": null,
   "metadata": {},
   "outputs": [],
   "source": []
  }
 ],
 "metadata": {
  "kernelspec": {
   "display_name": "Python 3",
   "language": "python",
   "name": "python3"
  },
  "language_info": {
   "codemirror_mode": {
    "name": "ipython",
    "version": 3
   },
   "file_extension": ".py",
   "mimetype": "text/x-python",
   "name": "python",
   "nbconvert_exporter": "python",
   "pygments_lexer": "ipython3",
   "version": "3.7.3"
  }
 },
 "nbformat": 4,
 "nbformat_minor": 2
}
