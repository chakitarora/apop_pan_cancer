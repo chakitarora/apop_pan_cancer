{
 "cells": [
  {
   "cell_type": "code",
   "execution_count": 1,
   "metadata": {},
   "outputs": [],
   "source": [
    "import numpy as np\n",
    "import pandas as pd\n",
    "import functools\n",
    "import sys\n",
    "\n",
    "fav=pd.read_csv('/Users/macbook/Desktop/APOP_PAN_CANCER/fav_unfav/01/pancancer_survival_fav_yes_1.csv')\n",
    "unfav=pd.read_csv('/Users/macbook/Desktop/APOP_PAN_CANCER/fav_unfav/01/pancancer_survival_unfav_yes_1.csv')"
   ]
  },
  {
   "cell_type": "code",
   "execution_count": 16,
   "metadata": {
    "scrolled": true
   },
   "outputs": [],
   "source": [
    "cancer1_f=set(fav[fav['KIRC']==1]['Gene'])\n",
    "cancer2_f=set(fav[fav['LGG']==1]['Gene'])\n",
    "#cancer3_f=set(fav[fav['CSEA']==1]['Gene'])\n",
    "inter_f=cancer1_f.intersection(cancer2_f)#,cancer3_f)\n",
    "\n",
    "cancer1_uf=set(unfav[unfav['KIRC']==1]['Gene'])\n",
    "cancer2_uf=set(unfav[unfav['LGG']==1]['Gene'])\n",
    "#cancer3_uf=set(unfav[unfav['CSEA']==1]['Gene'])\n",
    "inter_uf=cancer1_uf.intersection(cancer2_uf)#,cancer3_uf)"
   ]
  },
  {
   "cell_type": "code",
   "execution_count": 17,
   "metadata": {},
   "outputs": [],
   "source": [
    "inter=inter_f.union(inter_uf)\n",
    "columns=list(inter)"
   ]
  },
  {
   "cell_type": "code",
   "execution_count": 18,
   "metadata": {},
   "outputs": [
    {
     "data": {
      "text/plain": [
       "['IL1A',\n",
       " 'TNFRSF12A',\n",
       " 'SOD2',\n",
       " 'TOP2A',\n",
       " 'HMGB2',\n",
       " 'CD14',\n",
       " 'IFITM3',\n",
       " 'CDC25B',\n",
       " 'BBC3',\n",
       " 'CASP4',\n",
       " 'CD44',\n",
       " 'IL6',\n",
       " 'BTG3',\n",
       " 'BAK1',\n",
       " 'PSEN2',\n",
       " 'IFNB1',\n",
       " 'SAT1',\n",
       " 'GPX1',\n",
       " 'CDK2',\n",
       " 'TIMP1',\n",
       " 'ISG20',\n",
       " 'CASP8',\n",
       " 'PLCB2',\n",
       " 'TSPO',\n",
       " 'CASP3',\n",
       " 'LEF1',\n",
       " 'BIRC3',\n",
       " 'HSPB1']"
      ]
     },
     "execution_count": 18,
     "metadata": {},
     "output_type": "execute_result"
    }
   ],
   "source": [
    "list(inter_uf)"
   ]
  },
  {
   "cell_type": "code",
   "execution_count": 19,
   "metadata": {},
   "outputs": [
    {
     "data": {
      "text/plain": [
       "['TIMP3', 'DNAJA1', 'BCL2L2', 'SATB1', 'SPTAN1', 'BMP2', 'ADD1']"
      ]
     },
     "execution_count": 19,
     "metadata": {},
     "output_type": "execute_result"
    }
   ],
   "source": [
    "list(inter_f)"
   ]
  },
  {
   "cell_type": "code",
   "execution_count": 39,
   "metadata": {},
   "outputs": [
    {
     "data": {
      "text/plain": [
       "{'CD5', 'KLRK1', 'NLRC3', 'NLRC5'}"
      ]
     },
     "execution_count": 39,
     "metadata": {},
     "output_type": "execute_result"
    }
   ],
   "source": [
    "inter"
   ]
  },
  {
   "cell_type": "markdown",
   "metadata": {},
   "source": [
    "## find HR of intersecting genes"
   ]
  },
  {
   "cell_type": "code",
   "execution_count": 20,
   "metadata": {},
   "outputs": [],
   "source": [
    "import pandas as pd\n",
    "import sys\n",
    "\n",
    "#cancer1='UVM'\n",
    "#cancer2='LGG'\n",
    "\n",
    "#abc1=pd.read_csv('/Users/macbook/Desktop/APOP_PAN_CANCER/HR_APOP/'+str(cancer1)+'_HRmedian_raw.csv')\n",
    "#abc2=pd.read_csv('/Users/macbook/Desktop/APOP_PAN_CANCER/HR_APOP/'+str(cancer2)+'_HRmedian_raw.csv')\n",
    "\n",
    "genelist_uf=list(inter_uf)\n",
    "genelist_f=list(inter_f)"
   ]
  },
  {
   "cell_type": "code",
   "execution_count": 21,
   "metadata": {},
   "outputs": [],
   "source": [
    "def find_HR(cancer,genelist):\n",
    "    abc1=pd.read_csv('/Users/macbook/Desktop/APOP_PAN_CANCER/HR_APOP/'+str(cancer)+'_HRmedian_raw.csv')\n",
    "    prr_gene=abc1[abc1['Gene'].isin(genelist)]\n",
    "    prr_gene=prr_gene.drop(['Beta','GP1','GP2','Concordance','Std_Error'],axis=1)\n",
    "\n",
    "\n",
    "    orig=pd.DataFrame()\n",
    "    orig['Gene']=genelist\n",
    "    Final=pd.merge(prr_gene, orig, on='Gene', how='outer')\n",
    "    Final=Final.sort_values(\"Gene\")\n",
    "    print(cancer)\n",
    "    print(Final)\n",
    "    return\n",
    "#Final.to_csv('/Users/macbook/Desktop/APOP_PAN_CANCER/HR_APOP/READ_matrix_a.csv',header=True,index=False)"
   ]
  },
  {
   "cell_type": "code",
   "execution_count": 22,
   "metadata": {},
   "outputs": [
    {
     "name": "stdout",
     "output_type": "stream",
     "text": [
      "KIRC\n",
      "     Gene        HR   P-value  Hr-Inv-lst\n",
      "0    ADD1  0.453534  0.000002    2.204905\n",
      "1  BCL2L2  0.653215  0.009146    1.530889\n",
      "2    BMP2  0.685245  0.018045    1.459333\n",
      "3  DNAJA1  0.608828  0.002135    1.642500\n",
      "4   SATB1  0.693468  0.024666    1.442028\n",
      "5  SPTAN1  0.596157  0.001693    1.677409\n",
      "6   TIMP3  0.467661  0.000005    2.138303\n",
      "LGG\n",
      "     Gene        HR       P-value  Hr-Inv-lst\n",
      "0    ADD1  0.446791  2.073121e-04    2.238184\n",
      "1  BCL2L2  0.645747  4.106631e-02    1.548595\n",
      "2    BMP2  0.325298  8.439618e-07    3.074102\n",
      "3  DNAJA1  0.629536  2.843275e-02    1.588471\n",
      "4   SATB1  0.402285  3.790203e-05    2.485799\n",
      "5  SPTAN1  0.632769  2.993275e-02    1.580356\n",
      "6   TIMP3  0.552478  5.416260e-03    1.810026\n",
      "KIRC\n",
      "         Gene        HR       P-value  Hr-Inv-lst\n",
      "0        BAK1  2.205787  3.555003e-06    0.453353\n",
      "1        BBC3  1.485388  1.462554e-02    0.673225\n",
      "2       BIRC3  1.371338  4.894812e-02    0.729215\n",
      "3        BTG3  1.822532  2.483296e-04    0.548687\n",
      "4       CASP3  1.833404  2.576645e-04    0.545433\n",
      "5       CASP4  1.672387  1.850643e-03    0.597948\n",
      "6       CASP8  1.715332  9.697054e-04    0.582978\n",
      "7        CD14  1.562643  5.821454e-03    0.639941\n",
      "8        CD44  1.678143  1.585753e-03    0.595897\n",
      "9      CDC25B  2.273034  8.592769e-07    0.439941\n",
      "10       CDK2  2.003791  2.606827e-05    0.499054\n",
      "11       GPX1  1.762966  5.240699e-04    0.567226\n",
      "12      HMGB2  1.813271  3.171871e-04    0.551489\n",
      "13      HSPB1  1.641578  2.372129e-03    0.609170\n",
      "14     IFITM3  1.693930  1.183252e-03    0.590343\n",
      "15      IFNB1  1.777116  3.189699e-04    0.562709\n",
      "16       IL1A  1.595478  4.079017e-03    0.626771\n",
      "17        IL6  2.366997  5.321647e-07    0.422476\n",
      "18      ISG20  1.741387  6.629437e-04    0.574255\n",
      "19       LEF1  1.519041  1.033263e-02    0.658310\n",
      "20      PLCB2  1.595740  3.696553e-03    0.626668\n",
      "21      PSEN2  1.511610  1.033998e-02    0.661546\n",
      "22       SAT1  1.541228  7.342435e-03    0.648833\n",
      "23       SOD2  1.754857  6.046725e-04    0.569847\n",
      "24      TIMP1  2.467104  1.206275e-07    0.405334\n",
      "25  TNFRSF12A  1.834470  2.282587e-04    0.545117\n",
      "26      TOP2A  1.718419  9.646865e-04    0.581930\n",
      "27       TSPO  1.619433  3.018784e-03    0.617500\n",
      "LGG\n",
      "         Gene        HR       P-value  Hr-Inv-lst\n",
      "0        BAK1  1.562150  3.509573e-02    0.640144\n",
      "1        BBC3  1.519676  4.721104e-02    0.658035\n",
      "2       BIRC3  1.560303  3.476138e-02    0.640901\n",
      "3        BTG3  3.289408  5.243057e-07    0.304006\n",
      "4       CASP3  1.766882  7.743756e-03    0.565969\n",
      "5       CASP4  2.102482  9.780312e-04    0.475628\n",
      "6       CASP8  2.205346  2.844102e-04    0.453443\n",
      "7        CD14  1.578574  3.441622e-02    0.633483\n",
      "8        CD44  2.103323  8.341934e-04    0.475438\n",
      "9      CDC25B  2.163173  4.019208e-04    0.462284\n",
      "10       CDK2  2.906902  7.500271e-06    0.344009\n",
      "11       GPX1  2.086451  8.947784e-04    0.479283\n",
      "12      HMGB2  2.681682  1.729827e-05    0.372900\n",
      "13      HSPB1  2.712150  7.817562e-06    0.368711\n",
      "14     IFITM3  2.140175  4.817828e-04    0.467252\n",
      "15      IFNB1  2.494899  1.073302e-04    0.400818\n",
      "16       IL1A  1.599544  2.845566e-02    0.625178\n",
      "17        IL6  1.603876  2.650394e-02    0.623489\n",
      "18      ISG20  2.427439  4.988504e-05    0.411957\n",
      "19       LEF1  1.891249  2.899073e-03    0.528751\n",
      "20      PLCB2  1.767449  8.451104e-03    0.565787\n",
      "21      PSEN2  1.833328  4.766444e-03    0.545456\n",
      "22       SAT1  2.060040  8.865821e-04    0.485427\n",
      "23       SOD2  2.688580  9.316630e-06    0.371944\n",
      "24      TIMP1  2.664060  2.069228e-05    0.375367\n",
      "25  TNFRSF12A  2.490853  6.046190e-05    0.401469\n",
      "26      TOP2A  2.904660  1.035787e-05    0.344274\n",
      "27       TSPO  1.530197  4.563092e-02    0.653511\n"
     ]
    }
   ],
   "source": [
    "find_HR('KIRC',genelist_f)\n",
    "find_HR('LGG',genelist_f)\n",
    "find_HR('KIRC',genelist_uf)\n",
    "find_HR('LGG',genelist_uf)"
   ]
  },
  {
   "cell_type": "code",
   "execution_count": null,
   "metadata": {},
   "outputs": [],
   "source": []
  }
 ],
 "metadata": {
  "kernelspec": {
   "display_name": "Python 3",
   "language": "python",
   "name": "python3"
  },
  "language_info": {
   "codemirror_mode": {
    "name": "ipython",
    "version": 3
   },
   "file_extension": ".py",
   "mimetype": "text/x-python",
   "name": "python",
   "nbconvert_exporter": "python",
   "pygments_lexer": "ipython3",
   "version": "3.7.3"
  }
 },
 "nbformat": 4,
 "nbformat_minor": 2
}
