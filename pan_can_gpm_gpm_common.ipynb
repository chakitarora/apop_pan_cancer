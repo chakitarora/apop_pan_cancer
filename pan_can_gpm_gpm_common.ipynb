{
  "nbformat": 4,
  "nbformat_minor": 0,
  "metadata": {
    "colab": {
      "name": "pan_can_gpm_gpm_common",
      "provenance": [],
      "toc_visible": true
    },
    "kernelspec": {
      "name": "python3",
      "display_name": "Python 3"
    }
  },
  "cells": [
    {
      "cell_type": "code",
      "metadata": {
        "id": "ep1vUjW9GafN",
        "colab_type": "code",
        "colab": {}
      },
      "source": [
        "import numpy as np\n",
        "import pandas as pd\n",
        "import functools\n",
        "import sys\n",
        "\n",
        "type1='yes_1'\n",
        "#type2='yes_1'\n",
        "\n",
        "\n",
        "fav=pd.read_csv('pancancer_survival_fav_'+str(type1)+'.csv')\n",
        "unfav=pd.read_csv('pancancer_survival_unfav_'+str(type1)+'.csv')"
      ],
      "execution_count": 0,
      "outputs": []
    },
    {
      "cell_type": "code",
      "metadata": {
        "id": "AMxE0W80GehU",
        "colab_type": "code",
        "colab": {}
      },
      "source": [
        "def c1_c2(x,y,fav,unfav):    \n",
        "    nf=0\n",
        "    nuf=0\n",
        "    nx=0\n",
        "    for i in range(fav.shape[0]):\n",
        "        if (fav.iloc[i,x]==1) & (fav.iloc[i,y]==1):\n",
        "            nf=nf+1\n",
        "        if (unfav.iloc[i,x]==1) & (unfav.iloc[i,y]==1): \n",
        "            nuf=nuf+1\n",
        "        if (fav.iloc[i,x]==1) & (unfav.iloc[i,y]==1) or (unfav.iloc[i,x]==1) & (fav.iloc[i,y]==1) :\n",
        "            nx=nx+1\n",
        "        \n",
        "        x_fav_count=sum(fav.iloc[:,x])\n",
        "        y_fav_count=sum(fav.iloc[:,y])\n",
        "        x_unfav_count=sum(unfav.iloc[:,x])\n",
        "        y_unfav_count=sum(unfav.iloc[:,y])\n",
        "        \n",
        "        d=min(np.sum(fav.iloc[:,y])+np.sum(unfav.iloc[:,y]),np.sum(fav.iloc[:,x])+np.sum(unfav.iloc[:,x]))\n",
        "    \n",
        "    #sim=round((nf+nuf)/d,3)\n",
        "    #disim=round((nx)/d,3)\n",
        "    #print(nf,nuf,nx,d)\n",
        "    return nf,nuf,nx"
      ],
      "execution_count": 0,
      "outputs": []
    },
    {
      "cell_type": "code",
      "metadata": {
        "id": "fCGUuXg1VjUk",
        "colab_type": "code",
        "colab": {}
      },
      "source": [
        "cancers=list(fav.columns)"
      ],
      "execution_count": 0,
      "outputs": []
    },
    {
      "cell_type": "code",
      "metadata": {
        "id": "R6ocqDavV9Ac",
        "colab_type": "code",
        "colab": {}
      },
      "source": [
        "cancers=cancers[1:]"
      ],
      "execution_count": 0,
      "outputs": []
    },
    {
      "cell_type": "code",
      "metadata": {
        "id": "4E1_3hxhGlD-",
        "colab_type": "code",
        "colab": {}
      },
      "source": [
        "s = fav.shape[1]-1\n",
        "df_gpm = pd.DataFrame(0, index=range(s), columns=range(s))\n",
        "df_bpm = pd.DataFrame(0, index=range(s), columns=range(s))\n",
        "dfdisim = pd.DataFrame(0, index=range(s), columns=range(s))\n",
        "for i in range(1,34):\n",
        "    for j in range(1,34):\n",
        "        df_gpm.iloc[i-1,j-1],df_bpm.iloc[i-1,j-1],dfdisim.iloc[i-1,j-1]=c1_c2(i,j,fav,unfav)\n",
        "df_gpm.to_csv('gpm_'+str(type1)+'.csv',index=False,header=False)\n",
        "df_bpm.to_csv('bpm_'+str(type1)+'.csv',index=False,header=False)\n",
        "dfdisim.to_csv('disim_'+str(type1)+'.csv',index=False,header=False)"
      ],
      "execution_count": 0,
      "outputs": []
    },
    {
      "cell_type": "code",
      "metadata": {
        "id": "EWkXr6wxIcjv",
        "colab_type": "code",
        "colab": {}
      },
      "source": [
        "g1=df_gpm.to_numpy()\n",
        "g2=df_bpm.to_numpy()\n",
        "g3=dfdisim.to_numpy()"
      ],
      "execution_count": 0,
      "outputs": []
    },
    {
      "cell_type": "code",
      "metadata": {
        "id": "6w4IAF0tO1S1",
        "colab_type": "code",
        "colab": {}
      },
      "source": [
        "gpm=g1[np.triu_indices_from(g1, k=1)]\n",
        "bpm=g2[np.triu_indices_from(g2, k=1)]\n",
        "disim=g3[np.triu_indices_from(g3, k=1)]\n"
      ],
      "execution_count": 0,
      "outputs": []
    },
    {
      "cell_type": "code",
      "metadata": {
        "id": "PNospoqLAmky",
        "colab_type": "code",
        "colab": {}
      },
      "source": [
        "x=[]\n",
        "for k in range(len(cancers)):\n",
        "  l=k+1\n",
        "  while l!=33:\n",
        "    x.append(str(cancers[k])+'_'+str(cancers[l]))\n",
        "    l=l+1"
      ],
      "execution_count": 0,
      "outputs": []
    },
    {
      "cell_type": "code",
      "metadata": {
        "id": "zO0ZYokrXo4Z",
        "colab_type": "code",
        "colab": {}
      },
      "source": [
        "dfdf=pd.DataFrame()"
      ],
      "execution_count": 0,
      "outputs": []
    },
    {
      "cell_type": "code",
      "metadata": {
        "id": "K0qxf2ZsatdS",
        "colab_type": "code",
        "colab": {}
      },
      "source": [
        "dfdf['C1_C2']=x"
      ],
      "execution_count": 0,
      "outputs": []
    },
    {
      "cell_type": "code",
      "metadata": {
        "id": "4NsAoNjbayw9",
        "colab_type": "code",
        "colab": {}
      },
      "source": [
        "dfdf['c1_gpm']=[0]*528\n",
        "dfdf['c2_gpm']=[0]*528\n",
        "\n",
        "dfdf['c1_c2_common_gpm']=gpm\n",
        "\n",
        "dfdf['c1_bpm']=[0]*528\n",
        "dfdf['c2_bpm']=[0]*528\n",
        "\n",
        "dfdf['c1_c2_common_bpm']=bpm\n",
        "\n",
        "dfdf['c1_c2_flip']=disim"
      ],
      "execution_count": 0,
      "outputs": []
    },
    {
      "cell_type": "code",
      "metadata": {
        "id": "OfPClRiOetc_",
        "colab_type": "code",
        "colab": {}
      },
      "source": [
        "for h in range(dfdf.shape[0]):\n",
        "  c1=dfdf.iloc[h,0].split('_')[0]\n",
        "  c2=dfdf.iloc[h,0].split('_')[1]\n",
        "  \n",
        "  dfdf.iloc[h,1]=sum(fav[c1])\n",
        "  dfdf.iloc[h,2]=sum(fav[c2])\n",
        "\n",
        "  dfdf.iloc[h,4]=sum(unfav[c1])\n",
        "  dfdf.iloc[h,5]=sum(unfav[c2])"
      ],
      "execution_count": 0,
      "outputs": []
    },
    {
      "cell_type": "code",
      "metadata": {
        "id": "7u1kzAU7ljJx",
        "colab_type": "code",
        "colab": {}
      },
      "source": [
        "dfdf.to_csv('cancers_common_gpm_bpm_'+str(type1)+'.csv',index=False)"
      ],
      "execution_count": 0,
      "outputs": []
    },
    {
      "cell_type": "code",
      "metadata": {
        "id": "8O6XA-cLmGt-",
        "colab_type": "code",
        "colab": {}
      },
      "source": [
        ""
      ],
      "execution_count": 0,
      "outputs": []
    }
  ]
}