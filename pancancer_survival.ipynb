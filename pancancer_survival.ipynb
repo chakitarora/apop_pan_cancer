{
 "cells": [
  {
   "cell_type": "code",
   "execution_count": 10,
   "metadata": {
    "scrolled": true
   },
   "outputs": [],
   "source": [
    "import numpy as np\n",
    "import pandas as pd\n",
    "import functools\n",
    "import sys\n",
    "\n",
    "############################################################################\n",
    "\n",
    "#x=pd.read_csv(str(sys.argv[1]))\n",
    "x=pd.read_csv('/Users/macbook/Desktop/APOP_PAN_CANCER/Apop_pancan.csv')\n",
    "\n",
    "cutoff=1\n",
    "condition='both'\n",
    "p='yes'\n",
    "\n",
    "# cutoff=sys.argv[3]\n",
    "# condition=sys.argv[4]\n",
    "# p=sys.argv[5]\n",
    "\n",
    "############################################################################\n",
    "\n",
    "\n",
    "if p=='yes':\n",
    "    pval=0.05\n",
    "elif p=='no':\n",
    "    pval=1\n",
    "\n",
    "k=0\n",
    "m=4\n",
    "s1=pd.DataFrame()\n",
    "s2=pd.DataFrame()\n",
    "s2['Gene']=x.iloc[:,0]\n",
    "full=pd.DataFrame()\n",
    "\n",
    "\n",
    "for i in range(int(x.shape[1]/4)):\n",
    "#    print(i)\n",
    "    y=x.iloc[:,k:m]\n",
    "    if condition=='fav':\n",
    "        z=y[((y.iloc[:,1]<(1/cutoff))) & (y.iloc[:,2]<pval)]# | (y.iloc[:,1]<cutoff)]\n",
    "    elif (condition=='unfav'):\n",
    "        z=y[((y.iloc[:,1]>cutoff)) & (y.iloc[:,2]<pval)]\n",
    "    elif (condition=='both'):\n",
    "        z=y[((y.iloc[:,1]<(1/cutoff))|(y.iloc[:,1]>cutoff)) & (y.iloc[:,2]<pval)]\n",
    "    s1[z.columns[0]]=z.iloc[:,1]\n",
    "    \n",
    "    s2=s2.join(s1, how='outer')\n",
    "    del(y,z)\n",
    "    s1=pd.DataFrame()\n",
    "    k=k+4\n",
    "    m=m+4\n",
    "#s2=s2.apply(functools.partial(drop_and_roll, fillvalue=''))\n",
    "s2.to_csv('/Users/macbook/Desktop/APOP_PAN_CANCER/fav_unfav/new_pancancer_survival_'+str(condition)+'_'+str(p)+'_'+str(cutoff)+'.csv',index=False)\n",
    "#s2.to_csv(str(sys.argv[2]),index=False)"
   ]
  },
  {
   "cell_type": "code",
   "execution_count": null,
   "metadata": {},
   "outputs": [],
   "source": []
  }
 ],
 "metadata": {
  "kernelspec": {
   "display_name": "Python 3",
   "language": "python",
   "name": "python3"
  },
  "language_info": {
   "codemirror_mode": {
    "name": "ipython",
    "version": 3
   },
   "file_extension": ".py",
   "mimetype": "text/x-python",
   "name": "python",
   "nbconvert_exporter": "python",
   "pygments_lexer": "ipython3",
   "version": "3.7.3"
  }
 },
 "nbformat": 4,
 "nbformat_minor": 2
}
