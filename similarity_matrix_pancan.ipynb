{
 "cells": [
  {
   "cell_type": "code",
   "execution_count": 58,
   "metadata": {
    "colab": {},
    "colab_type": "code",
    "id": "p3MtfE3GiSP4"
   },
   "outputs": [],
   "source": [
    "import numpy as np\n",
    "import pandas as pd\n",
    "import functools\n",
    "import sys\n",
    "import math\n",
    "\n",
    "type1='fav_yes_1'\n",
    "num=1\n",
    "lbl='Ochiai-2'\n",
    "\n",
    "\n",
    "\n",
    "#type2='yes_1'\n",
    "if type1=='unfav_yes_1':\n",
    "  title1='BPM'\n",
    "else:\n",
    "  title1='GPM'\n",
    "\n",
    "file1=pd.read_csv('/Users/macbook/Desktop/APOP_PAN_CANCER/fav_unfav/01/pancancer_survival_'+str(type1)+'.csv')\n",
    "#unfav=pd.read_csv('pancancer_survival_unfav_'+str(type1)+'.csv')\n",
    "cancers=(file1.columns)[1:]"
   ]
  },
  {
   "cell_type": "code",
   "execution_count": 59,
   "metadata": {
    "colab": {},
    "colab_type": "code",
    "id": "0G01pno4ipdM"
   },
   "outputs": [],
   "source": [
    "def c1_c2(c1,c2,file1):    \n",
    "    a=0\n",
    "    b=0\n",
    "    c=0\n",
    "    d=0\n",
    "    if c1==c2:\n",
    "      S=1\n",
    "    else:\n",
    "      S=0\n",
    "    for i in range(file1.shape[0]):\n",
    "        if (file1.iloc[i,c1]==1) & (file1.iloc[i,c2]==1):\n",
    "            a=a+1\n",
    "        if (file1.iloc[i,c1]==1) & (file1.iloc[i,c2]==0): \n",
    "            b=b+1\n",
    "        if (file1.iloc[i,c1]==0) & (file1.iloc[i,c2]==1):\n",
    "            c=c+1\n",
    "        if (file1.iloc[i,c1]==0) & (file1.iloc[i,c2]==0): \n",
    "            d=d+1\n",
    "        try:\n",
    "#           S=a/(a+b+c) #jaccard\n",
    "#           S=2*a/(2*a+b+c)#dice\n",
    "#           S=a/math.sqrt((a+b)*(a+c))#ochiai-1\n",
    "#           S=(a/2)*((1/(a+b))+(1/(a+c)))#kulzcynzki-2\n",
    "#           S=a/min(a+b,a+c)#simpson\n",
    "#           S=a/(a+b+c+d)#russell-rao\n",
    "#           S=(a+d)/(a+2*b+2*c+d)#rogers-tanimoto\n",
    "          S=(a*d)/math.sqrt((a+b)*(a+c)*(b+d)*(c+d))#ochiai-2\n",
    "        except:\n",
    "          pass\n",
    "\n",
    "\n",
    "    \n",
    "    #sim=round((nf+nuf)/d,3)\n",
    "    #disim=round((nx)/d,3)\n",
    "    #print(nf,nuf,nx,d)\n",
    "    return round(S,4)"
   ]
  },
  {
   "cell_type": "code",
   "execution_count": 60,
   "metadata": {
    "colab": {},
    "colab_type": "code",
    "id": "uSkHMIdl8RgI"
   },
   "outputs": [],
   "source": [
    "s = file1.shape[1]-1\n",
    "df_S = pd.DataFrame(0, index=range(s), columns=range(s))\n",
    "\n",
    "for i in range(1,34):\n",
    "    for j in range(1,34):\n",
    "        df_S.iloc[i-1,j-1]=c1_c2(i,j,file1)\n",
    "\n",
    "df_S.columns=cancers\n",
    "df_S.index=cancers\n",
    "\n",
    "\n",
    "df_S.to_csv('/Users/macbook/Desktop/APOP_PAN_CANCER/jaccard/matrices/'+str(lbl)+'_'+str(title1)+'.csv',index=True,header=True)"
   ]
  },
  {
   "cell_type": "code",
   "execution_count": 61,
   "metadata": {
    "colab": {},
    "colab_type": "code",
    "id": "ZSe6UZJv9C5t"
   },
   "outputs": [],
   "source": [
    "g1=df_S.to_numpy()\n",
    "g1=g1[np.triu_indices_from(g1, k=1)]"
   ]
  },
  {
   "cell_type": "code",
   "execution_count": 62,
   "metadata": {
    "colab": {
     "base_uri": "https://localhost:8080/",
     "height": 312
    },
    "colab_type": "code",
    "id": "xKxZOj6wBZH0",
    "outputId": "df4b3da4-8b3d-40dd-9fbf-d28931f9198e"
   },
   "outputs": [
    {
     "data": {
      "image/png": "[encoded data removed]",
      "text/plain": [
       "<Figure size 432x288 with 1 Axes>"
      ]
     },
     "metadata": {
      "needs_background": "light"
     },
     "output_type": "display_data"
    }
   ],
   "source": [
    "%matplotlib inline\n",
    "import matplotlib.pyplot as plt\n",
    "\n",
    "plt.hist(g1)\n",
    "plt.ylabel('#Cancer Pairs')\n",
    "plt.xlabel(str(lbl)+' similarity index')\n",
    "plt.title(title1)\n",
    "plt.text(0.15, 300, 'Mean='+str(round(np.mean(g1),3)))\n",
    "plt.text(0.15, 280, 'Std='+str(round(np.std(g1),3)))\n",
    "plt.savefig('/Users/macbook/Desktop/APOP_PAN_CANCER/jaccard/freq_plots/'+str(lbl)+'_'+str(title1)+'.png')\n",
    "plt.show()"
   ]
  },
  {
   "cell_type": "code",
   "execution_count": 63,
   "metadata": {
    "colab": {
     "base_uri": "https://localhost:8080/",
     "height": 34
    },
    "colab_type": "code",
    "id": "hx0yG61dC9uP",
    "outputId": "52c54f65-571d-4b60-9d68-ddb10cd5f82a"
   },
   "outputs": [
    {
     "data": {
      "text/plain": [
       "0.03983030303030303"
      ]
     },
     "execution_count": 63,
     "metadata": {},
     "output_type": "execute_result"
    }
   ],
   "source": [
    "np.mean(g1)"
   ]
  },
  {
   "cell_type": "code",
   "execution_count": 64,
   "metadata": {
    "colab": {
     "base_uri": "https://localhost:8080/",
     "height": 34
    },
    "colab_type": "code",
    "id": "xx7knFBwCz3N",
    "outputId": "9c0f6b0d-40a6-46dd-888b-0493847c96bd"
   },
   "outputs": [
    {
     "data": {
      "text/plain": [
       "0.07604339165936569"
      ]
     },
     "execution_count": 64,
     "metadata": {},
     "output_type": "execute_result"
    }
   ],
   "source": [
    "np.std(g1)"
   ]
  },
  {
   "cell_type": "code",
   "execution_count": 65,
   "metadata": {},
   "outputs": [],
   "source": [
    "x=[]\n",
    "for k in range(len(cancers)):\n",
    "  l=k+1\n",
    "  while l!=33:\n",
    "    x.append(str(cancers[k])+'_'+str(cancers[l]))\n",
    "    l=l+1\n",
    "dfdf=pd.DataFrame()\n",
    "dfdf['c1_c2']=x\n",
    "dfdf[str(lbl)+'_'+str(title1)]=g1"
   ]
  },
  {
   "cell_type": "code",
   "execution_count": 66,
   "metadata": {},
   "outputs": [],
   "source": [
    "dfdf.to_csv('/Users/macbook/Desktop/APOP_PAN_CANCER/jaccard/single_col/'+str(lbl)+'_'+str(title1)+'.csv',index=False,header=True)"
   ]
  },
  {
   "cell_type": "code",
   "execution_count": null,
   "metadata": {},
   "outputs": [],
   "source": []
  }
 ],
 "metadata": {
  "colab": {
   "name": "similarity_matrix_pancan",
   "provenance": []
  },
  "kernelspec": {
   "display_name": "Python 3",
   "language": "python",
   "name": "python3"
  },
  "language_info": {
   "codemirror_mode": {
    "name": "ipython",
    "version": 3
   },
   "file_extension": ".py",
   "mimetype": "text/x-python",
   "name": "python",
   "nbconvert_exporter": "python",
   "pygments_lexer": "ipython3",
   "version": "3.7.3"
  }
 },
 "nbformat": 4,
 "nbformat_minor": 1
}
